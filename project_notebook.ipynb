{
 "cells": [
  {
   "cell_type": "markdown",
   "metadata": {},
   "source": [
    "Alexandre Hirsch, Antonin Wattel"
   ]
  },
  {
   "cell_type": "code",
   "execution_count": 4,
   "metadata": {},
   "outputs": [],
   "source": [
    "import os\n",
    "import pandas as pd\n",
    "import numpy as np\n",
    "import networkx as nx\n",
    "from sklearn.linear_model import Lasso, LogisticRegression\n",
    "from sklearn.naive_bayes import MultinomialNB\n",
    "import json\n",
    "from gensim.models import Word2Vec\n",
    "import gensim.downloader as api\n",
    "from gensim.parsing.preprocessing import STOPWORDS"
   ]
  },
  {
   "cell_type": "code",
   "execution_count": 1,
   "metadata": {},
   "outputs": [],
   "source": [
    "import os\n",
    "import pandas as pd\n",
    "import re\n",
    "import numpy as np\n",
    "import networkx as nx\n",
    "from sklearn.linear_model import Lasso, LogisticRegression\n",
    "from sklearn.naive_bayes import MultinomialNB\n",
    "import json\n",
    "from gensim.models import Word2Vec, KeyedVectors\n",
    "import gensim.downloader as api\n",
    "from gensim.parsing.preprocessing import STOPWORDS\n",
    "from gensim.test.utils import datapath\n",
    "#import nltk\n",
    "import torch\n",
    "from torch import nn\n",
    "from torchvision.datasets import CIFAR10\n",
    "from torch.utils.data import DataLoader\n",
    "from torchvision import transforms\n",
    "#from nltk.stem import WordNetLemmatizer"
   ]
  },
  {
   "cell_type": "code",
   "execution_count": 2,
   "metadata": {},
   "outputs": [],
   "source": [
    "#nltk.download('wordnet')"
   ]
  },
  {
   "cell_type": "markdown",
   "metadata": {},
   "source": [
    "## Data Loading"
   ]
  },
  {
   "cell_type": "code",
   "execution_count": 3,
   "metadata": {},
   "outputs": [
    {
     "name": "stdout",
     "output_type": "stream",
     "text": [
      "Number of nodes: 217801\n",
      "Number of edges: 1718164\n"
     ]
    }
   ],
   "source": [
    "#5.9s\n",
    "\n",
    "# read training data\n",
    "df_train = pd.read_csv('train.csv', dtype={'author': np.int64, 'hindex': np.float32})\n",
    "n_train = df_train.shape[0]\n",
    "\n",
    "# read test data\n",
    "df_test = pd.read_csv('test.csv', dtype={'author': np.int64})\n",
    "n_test = df_test.shape[0]\n",
    "\n",
    "# load the graph    \n",
    "G = nx.read_edgelist('coauthorship.edgelist', delimiter=' ', nodetype=int)\n",
    "n_nodes = G.number_of_nodes()\n",
    "n_edges = G.number_of_edges() \n",
    "print('Number of nodes:', n_nodes)\n",
    "print('Number of edges:', n_edges)\n",
    "\n",
    "#core_number = nx.core_number(G)"
   ]
  },
  {
   "cell_type": "markdown",
   "metadata": {},
   "source": [
    "## Extracting features from abstracts.txt"
   ]
  },
  {
   "cell_type": "code",
   "execution_count": 5,
   "metadata": {},
   "outputs": [
    {
     "name": "stdout",
     "output_type": "stream",
     "text": [
      "Word2Vec model loaded\n"
     ]
    }
   ],
   "source": [
    "#1m40s\n",
    "\n",
    "#try with different pre-trained word-embedding models\n",
    "wv = api.load('word2vec-google-news-300')\n",
    "#wv = api.load('glove-wiki-gigaword-300')\n",
    "print(\"Word2Vec model loaded\")"
   ]
  },
  {
   "cell_type": "code",
   "execution_count": 6,
   "metadata": {},
   "outputs": [],
   "source": [
    "# train our own word2vec model on the abstracts (-> this does not perform so well)\n",
    "#sentences2 = []\n",
    "#sentences2 = [[word for word in nltk.word_tokenize(s) if word.isalnum()] for s in sentences]\n",
    "#model = Word2Vec(sentences2, sg = 1)\n",
    "#print(sentences2)"
   ]
  },
  {
   "cell_type": "code",
   "execution_count": 7,
   "metadata": {},
   "outputs": [
    {
     "name": "stdout",
     "output_type": "stream",
     "text": [
      "abstracts stored\n"
     ]
    }
   ],
   "source": [
    "#2m 40s\n",
    "\n",
    "def store_abstracts():\n",
    "    paper_IDs = dict()\n",
    "    #with open('abstracts.txt') as f:\n",
    "    with open('abstracts.txt', encoding='utf-8') as f:\n",
    "        for l in f:\n",
    "            paper_ID, abstract = l.split(\"----\",1)\n",
    "            #sent = [None]*d[\"IndexLength\"]\n",
    "            #for word, v in d[\"InvertedIndex\"].items():\n",
    "                #for i in v:\n",
    "                    #sent[i] = word\n",
    "            #sentences += nltk.sent_tokenize(' '.join(list(filter(None, sent))))\n",
    "            paper_IDs[int(paper_ID)] = json.loads(abstract)[\"InvertedIndex\"].keys() - STOPWORDS\n",
    "    return paper_IDs #, sentences\n",
    "\n",
    "paper_IDs = store_abstracts()\n",
    "print('abstracts stored')"
   ]
  },
  {
   "cell_type": "code",
   "execution_count": 5,
   "metadata": {},
   "outputs": [
    {
     "name": "stdout",
     "output_type": "stream",
     "text": [
      "authors stored\n"
     ]
    }
   ],
   "source": [
    "#12 s\n",
    "\n",
    "def store_authors():\n",
    "    author_IDs = dict()\n",
    "    with open('author_papers.txt') as f:\n",
    "        for l in f:\n",
    "            author_ID, papers = l.split(':')\n",
    "            author_IDs[int(author_ID)] = map(int,papers.split('-'))\n",
    "    return author_IDs\n",
    "    \n",
    "author_IDs = store_authors()\n",
    "print('authors stored')"
   ]
  },
  {
   "cell_type": "code",
   "execution_count": 4,
   "metadata": {},
   "outputs": [],
   "source": [
    "def get_paper_value(paper_ID):\n",
    "    vec = np.zeros(wv.vector_size)\n",
    "    try:\n",
    "        words_used = set()\n",
    "        for token in paper_IDs[paper_ID]:\n",
    "            words = re.sub(r'[-/]', ' ', re.sub(r'[.…,:?!;\\'‘’\"“”()*–]|[0-9]+-|[0-9]|\\'s', '', token))\n",
    "            for w in words.split():\n",
    "                if w not in STOPWORDS and w not in words_used:\n",
    "                    words_used.add(w)\n",
    "                    try:\n",
    "                        vec += wv[w]\n",
    "                    except:\n",
    "                        continue\n",
    "    except:\n",
    "        pass\n",
    "    return vec\n",
    "\n",
    "def get_author_value(author_ID):\n",
    "    vec = np.zeros(wv.vector_size)\n",
    "    for paper_ID in author_IDs[author_ID]:\n",
    "        vec += get_paper_value(paper_ID)\n",
    "    return vec\n",
    " "
   ]
  },
  {
   "cell_type": "code",
   "execution_count": 10,
   "metadata": {},
   "outputs": [],
   "source": [
    "#\n",
    "\n",
    "X_train = np.zeros((n_train, wv.vector_size))\n",
    "y_train = np.zeros(n_train)\n",
    "\n",
    "\n",
    "# X_train_1 = np.zeros((n_train, df_train_1.shape[0]))\n",
    "# y_train_1 = np.zeros(n_train)\n",
    "\n",
    "# X_validation = np.zeros((n_train, df_test_1.shape[0]))\n",
    "# y_validation = np.zeros(n_train)\n",
    "\n",
    "\n",
    "for i,row in df_train.iterrows():\n",
    "    author = row['author']\n",
    "    X_train[i,:] = get_author_value(author)\n",
    "    y_train[i] = row['hindex']\n",
    "\n",
    "print('training data loaded')\n",
    "\n",
    "#this is useless for the moment----------\n",
    "# X_train_1 = X_train[:len(df_train)//5]\n",
    "# y_train_1 = y_train[:len(df_train)//5]\n",
    "\n",
    "# X_validation = X_train[len(df_train)//5:]\n",
    "# y_validation = y_train[len(df_train)//5:]\n",
    "#-------------------------------------------\n",
    "\n",
    "\n",
    "X_test = np.zeros((n_test, wv.vector_size))\n",
    "for i,row in df_test.iterrows():\n",
    "    author = row['author']\n",
    "    X_test[i,:] = get_author_value(author)\n",
    "print('testing data loaded')"
   ]
  },
  {
   "cell_type": "code",
   "execution_count": null,
   "metadata": {},
   "outputs": [],
   "source": [
    "# print(X_train.shape)\n",
    "# print(X_train_1.shape)\n",
    "# print(X_validation.shape)"
   ]
  },
  {
   "cell_type": "code",
   "execution_count": null,
   "metadata": {},
   "outputs": [],
   "source": [
    "#save feature vectors from the abstracts\n",
    "np.save('X_train_abstract.npy', X_train)\n",
    "np.save('X_test_abstract.npy', X_test)"
   ]
  },
  {
   "cell_type": "markdown",
   "metadata": {},
   "source": [
    "## Extracting features from graph structure"
   ]
  },
  {
   "cell_type": "code",
   "execution_count": 4,
   "metadata": {},
   "outputs": [
    {
     "name": "stdout",
     "output_type": "stream",
     "text": [
      "Number of nodes: 217801\n",
      "Number of edges: 1718164\n"
     ]
    }
   ],
   "source": [
    "#10s\n",
    "\n",
    "# load the graph    \n",
    "G = nx.read_edgelist('coauthorship.edgelist', delimiter=' ', nodetype=int)\n",
    "n_nodes = G.number_of_nodes()\n",
    "n_edges = G.number_of_edges() \n",
    "print('Number of nodes:', n_nodes)\n",
    "print('Number of edges:', n_edges)"
   ]
  },
  {
   "cell_type": "markdown",
   "metadata": {},
   "source": [
    "### Extract features (no learning) -> centrality based features"
   ]
  },
  {
   "cell_type": "code",
   "execution_count": 5,
   "metadata": {},
   "outputs": [
    {
     "name": "stdout",
     "output_type": "stream",
     "text": [
      "core_number\n",
      "pagerank\n",
      "triangles\n",
      "deg_centrality\n"
     ]
    }
   ],
   "source": [
    "#careful: this takes time to run !!!! ()\n",
    "\n",
    "#https://arxiv.org/ftp/arxiv/papers/1911/1911.08795.pdf \n",
    "#https://www.geeksforgeeks.org/network-centrality-measures-in-a-graph-using-networkx-python/\n",
    "\n",
    "\n",
    "#let's just hope there is enough space in memory for all this\n",
    "\n",
    "core_number = nx.core_number(G)\n",
    "print('core_number')\n",
    "page_rank = nx.pagerank(G, alpha=0.9) #not so sure about the alpha\n",
    "print('pagerank')\n",
    "nb_triangles = nx.triangles(G)\n",
    "print('triangles')\n",
    "deg_centrality = nx.degree_centrality(G) \n",
    "print('deg_centrality')\n",
    "# close_centrality = nx.closeness_centrality(G)#veerrry long >40 m\n",
    "# print('closeness_centrality')\n",
    "# bet_centrality = nx.betweenness_centrality(G, normalized = True, endpoints = False)\n",
    "# print('bet_centrality')\n",
    "# eig_centrality = nx.eigenvector_centrality(G)\n",
    "# print('eigenvector_centrality')\n",
    "# katz_centrality = nx.katz_centrality(G)\n",
    "# print('katz_centrality')\n",
    "# current_flow_closeness_centrality = nx.current_flow_closeness_centrality(G)\n",
    "# print('current_flow')\n",
    "# current_flow_betweenness_centrality = nx.current_flow_betweenness_centrality(G)\n",
    "# print('current_flow_betweenness_centrality')\n",
    "# load_centrality = nx.load_centrality(G)\n",
    "# print('load_centrality')\n",
    "# harmonic_centrality = nx.harmonic_centrality(G)\n",
    "# print('harmonic')\n",
    "# percolation_centrality = nx.percolation_centrality(G)\n",
    "# print('percolation')\n",
    "# second_order_centrality = nx.second_order_centrality(G)\n",
    "# print('second oreder')\n",
    "# trophic_levels = nx.trophic_levels(G)\n",
    "# print('trophic levels')"
   ]
  },
  {
   "cell_type": "code",
   "execution_count": 6,
   "metadata": {},
   "outputs": [
    {
     "name": "stdout",
     "output_type": "stream",
     "text": [
      "loaded training features\n",
      "loaded testing features\n"
     ]
    }
   ],
   "source": [
    "X_train = np.zeros((n_train, 17))\n",
    "\n",
    "for i,row in df_train.iterrows():\n",
    "    author = row['author']\n",
    "    X_train[i, 0] = G.degree(author)\n",
    "    X_train[i, 1] = core_number[author]\n",
    "    X_train[i, 2] = page_rank[author]\n",
    "    X_train[i, 3] = nb_triangles[author]\n",
    "    X_train[i, 4] = deg_centrality[author]\n",
    "    # X_train[i, 5] = close_centrality[author]\n",
    "    # X_train[i, 6] = bet_centrality[author]\n",
    "    # X_train[i, 7] = eig_centrality[author]\n",
    "    # X_train[i, 8] = katz_centrality[author]\n",
    "    # X_train[i, 9] = current_flow_closeness_centrality[author]\n",
    "    # X_train[i, 10] = current_flow_betweenness_centrality[author]\n",
    "    # X_train[i, 11] = load_centrality[author]\n",
    "    # X_train[i, 12] = harmonic_centrality[author]\n",
    "    # X_train[i, 13] = percolation_centrality[author]\n",
    "    # X_train[i, 14] = second_order_centrality[author]\n",
    "    # X_train[i, 15] = trophic_levels[author]\n",
    "\n",
    "    #TO DO: largest clique number (he feature of a node is defined as the largest k of a k-clique that contains that node.)\n",
    "print('loaded training features')\n",
    "\n",
    "#-----------------------------\n",
    "\n",
    "X_test = np.zeros((n_test, 17))\n",
    "\n",
    "for i,row in df_test.iterrows():\n",
    "    author = row['author']\n",
    "    X_test[i, 0] = G.degree(author)\n",
    "    X_test[i, 1] = core_number[author]\n",
    "    X_test[i, 2] = page_rank[author]\n",
    "    X_test[i, 3] = nb_triangles[author]\n",
    "    X_test[i, 4] = deg_centrality[author]\n",
    "    # X_test[i, 5] = close_centrality[author]\n",
    "    # X_test[i, 6] = bet_centrality[author]\n",
    "    # X_test[i, 7] = eig_centrality[author]\n",
    "    # X_test[i, 8] = katz_centrality[author]\n",
    "    # X_test[i, 9] = current_flow_closeness_centrality[author]\n",
    "    # X_test[i, 10] = current_flow_betweenness_centrality[author]\n",
    "    # X_test[i, 11] = load_centrality[author]\n",
    "    # X_test[i, 12] = harmonic_centrality[author]\n",
    "    # X_test[i, 13] = percolation_centrality[author]\n",
    "    # X_test[i, 14] = second_order_centrality[author]\n",
    "    # X_test[i, 15] = trophic_levels[author]\n",
    "\n",
    "print('loaded testing features')"
   ]
  },
  {
   "cell_type": "code",
   "execution_count": 7,
   "metadata": {},
   "outputs": [],
   "source": [
    "np.save('X_train_graph.npy', X_train)\n",
    "np.save('X_test_graph.npy', X_test)\n",
    "# np.save('X_train_1_graph.npy', X_train)\n",
    "# np.save('X_validation_graph.npy', X_train)"
   ]
  },
  {
   "cell_type": "markdown",
   "metadata": {},
   "source": [
    "### use different graph methods to extract node embeddings from the graph\n",
    "(for the moment, we only use methods... )"
   ]
  },
  {
   "cell_type": "code",
   "execution_count": null,
   "metadata": {},
   "outputs": [],
   "source": [
    "#THERE IS STILL WORK TO DO HERE !!!!"
   ]
  },
  {
   "cell_type": "code",
   "execution_count": 34,
   "metadata": {},
   "outputs": [
    {
     "name": "stdout",
     "output_type": "stream",
     "text": [
      "node =  [0, 1, 2, 3, 4, 5, 6, 7, 8, 9]\n"
     ]
    }
   ],
   "source": [
    "#convert IDs to numeric indices in order to use karate library\n",
    "\n",
    "#G_ = G.copy()\n",
    "#original_indices = [node for node in G.nodes()]\n",
    "#print(\"original = \", original_indices[0:10])\n",
    "#G = nx.convert_node_labels_to_integers(G, first_label=0, ordering='default')\n",
    "\n",
    "#to do: make sure we get bak to the same\n",
    "\n",
    "mapping_to_indices = { node : i for node, i in zip([node for node in G.nodes()], [i for i in range(n_nodes)]) }\n",
    "inverse_mapping = dict(zip(mapping_to_indices.values(),mapping_to_indices.keys()))\n",
    "G = nx.relabel_nodes(G, mapping_to_indices)\n",
    "\n",
    "node_indices = [node for node in G.nodes()]\n",
    "print(\"node = \", node_indices[0:10])\n",
    "\n",
    "\n",
    "\n",
    "#problem !!! we need to use an ordered dict here\n",
    "\n"
   ]
  },
  {
   "cell_type": "code",
   "execution_count": null,
   "metadata": {},
   "outputs": [],
   "source": [
    "#takes a few hours to run...\n",
    "from karateclub.node_embedding.neighbourhood import Node2Vec \n",
    "\n",
    "model1 = Node2Vec()\n",
    "model1.fit(G)\n",
    "print('fitted Node2Vec')\n",
    "\n",
    "embedding1 = model1.get_embedding()\n",
    "np.save('Node2Vec_embedding.npy', embedding1 )"
   ]
  },
  {
   "cell_type": "code",
   "execution_count": null,
   "metadata": {},
   "outputs": [
    {
     "ename": "AssertionError",
     "evalue": "The node indexing is wrong.",
     "output_type": "error",
     "traceback": [
      "\u001b[1;31m---------------------------------------------------------------------------\u001b[0m",
      "\u001b[1;31mAssertionError\u001b[0m                            Traceback (most recent call last)",
      "\u001b[1;32m~\\AppData\\Local\\Temp/ipykernel_15300/3862853937.py\u001b[0m in \u001b[0;36m<module>\u001b[1;34m\u001b[0m\n\u001b[0;32m      3\u001b[0m \u001b[1;33m\u001b[0m\u001b[0m\n\u001b[0;32m      4\u001b[0m \u001b[0mmodel2\u001b[0m \u001b[1;33m=\u001b[0m \u001b[0mBoostNE\u001b[0m\u001b[1;33m(\u001b[0m\u001b[1;33m)\u001b[0m\u001b[1;33m\u001b[0m\u001b[1;33m\u001b[0m\u001b[0m\n\u001b[1;32m----> 5\u001b[1;33m \u001b[0mmodel2\u001b[0m\u001b[1;33m.\u001b[0m\u001b[0mfit\u001b[0m\u001b[1;33m(\u001b[0m\u001b[0mG\u001b[0m\u001b[1;33m)\u001b[0m\u001b[1;33m\u001b[0m\u001b[1;33m\u001b[0m\u001b[0m\n\u001b[0m\u001b[0;32m      6\u001b[0m \u001b[0mprint\u001b[0m\u001b[1;33m(\u001b[0m\u001b[1;34m'fitted Node2Vec'\u001b[0m\u001b[1;33m)\u001b[0m\u001b[1;33m\u001b[0m\u001b[1;33m\u001b[0m\u001b[0m\n\u001b[0;32m      7\u001b[0m \u001b[1;33m\u001b[0m\u001b[0m\n",
      "\u001b[1;32mC:\\ProgramData\\Anaconda3\\envs\\test_karate\\lib\\site-packages\\karateclub\\node_embedding\\neighbourhood\\boostne.py\u001b[0m in \u001b[0;36mfit\u001b[1;34m(self, graph)\u001b[0m\n\u001b[0;32m    203\u001b[0m         \"\"\"\n\u001b[0;32m    204\u001b[0m         \u001b[0mself\u001b[0m\u001b[1;33m.\u001b[0m\u001b[0m_set_seed\u001b[0m\u001b[1;33m(\u001b[0m\u001b[1;33m)\u001b[0m\u001b[1;33m\u001b[0m\u001b[1;33m\u001b[0m\u001b[0m\n\u001b[1;32m--> 205\u001b[1;33m         \u001b[0mgraph\u001b[0m \u001b[1;33m=\u001b[0m \u001b[0mself\u001b[0m\u001b[1;33m.\u001b[0m\u001b[0m_check_graph\u001b[0m\u001b[1;33m(\u001b[0m\u001b[0mgraph\u001b[0m\u001b[1;33m)\u001b[0m\u001b[1;33m\u001b[0m\u001b[1;33m\u001b[0m\u001b[0m\n\u001b[0m\u001b[0;32m    206\u001b[0m         \u001b[0mself\u001b[0m\u001b[1;33m.\u001b[0m\u001b[0m_residuals\u001b[0m \u001b[1;33m=\u001b[0m \u001b[0mself\u001b[0m\u001b[1;33m.\u001b[0m\u001b[0m_create_target_matrix\u001b[0m\u001b[1;33m(\u001b[0m\u001b[0mgraph\u001b[0m\u001b[1;33m)\u001b[0m\u001b[1;33m\u001b[0m\u001b[1;33m\u001b[0m\u001b[0m\n\u001b[0;32m    207\u001b[0m         \u001b[0mself\u001b[0m\u001b[1;33m.\u001b[0m\u001b[0m_setup_base_model\u001b[0m\u001b[1;33m(\u001b[0m\u001b[1;33m)\u001b[0m\u001b[1;33m\u001b[0m\u001b[1;33m\u001b[0m\u001b[0m\n",
      "\u001b[1;32mC:\\ProgramData\\Anaconda3\\envs\\test_karate\\lib\\site-packages\\karateclub\\estimator.py\u001b[0m in \u001b[0;36m_check_graph\u001b[1;34m(self, graph)\u001b[0m\n\u001b[0;32m     55\u001b[0m     \u001b[1;32mdef\u001b[0m \u001b[0m_check_graph\u001b[0m\u001b[1;33m(\u001b[0m\u001b[0mself\u001b[0m\u001b[1;33m,\u001b[0m \u001b[0mgraph\u001b[0m\u001b[1;33m:\u001b[0m \u001b[0mnx\u001b[0m\u001b[1;33m.\u001b[0m\u001b[0mclasses\u001b[0m\u001b[1;33m.\u001b[0m\u001b[0mgraph\u001b[0m\u001b[1;33m.\u001b[0m\u001b[0mGraph\u001b[0m\u001b[1;33m)\u001b[0m \u001b[1;33m->\u001b[0m \u001b[0mnx\u001b[0m\u001b[1;33m.\u001b[0m\u001b[0mclasses\u001b[0m\u001b[1;33m.\u001b[0m\u001b[0mgraph\u001b[0m\u001b[1;33m.\u001b[0m\u001b[0mGraph\u001b[0m\u001b[1;33m:\u001b[0m\u001b[1;33m\u001b[0m\u001b[1;33m\u001b[0m\u001b[0m\n\u001b[0;32m     56\u001b[0m         \u001b[1;34m\"\"\"Check the Karate Club assumptions about the graph.\"\"\"\u001b[0m\u001b[1;33m\u001b[0m\u001b[1;33m\u001b[0m\u001b[0m\n\u001b[1;32m---> 57\u001b[1;33m         \u001b[0mself\u001b[0m\u001b[1;33m.\u001b[0m\u001b[0m_check_indexing\u001b[0m\u001b[1;33m(\u001b[0m\u001b[0mgraph\u001b[0m\u001b[1;33m)\u001b[0m\u001b[1;33m\u001b[0m\u001b[1;33m\u001b[0m\u001b[0m\n\u001b[0m\u001b[0;32m     58\u001b[0m         \u001b[0mgraph\u001b[0m \u001b[1;33m=\u001b[0m \u001b[0mself\u001b[0m\u001b[1;33m.\u001b[0m\u001b[0m_ensure_integrity\u001b[0m\u001b[1;33m(\u001b[0m\u001b[0mgraph\u001b[0m\u001b[1;33m)\u001b[0m\u001b[1;33m\u001b[0m\u001b[1;33m\u001b[0m\u001b[0m\n\u001b[0;32m     59\u001b[0m \u001b[1;33m\u001b[0m\u001b[0m\n",
      "\u001b[1;32mC:\\ProgramData\\Anaconda3\\envs\\test_karate\\lib\\site-packages\\karateclub\\estimator.py\u001b[0m in \u001b[0;36m_check_indexing\u001b[1;34m(graph)\u001b[0m\n\u001b[0;32m     51\u001b[0m         \u001b[0mnode_indices\u001b[0m \u001b[1;33m=\u001b[0m \u001b[0msorted\u001b[0m\u001b[1;33m(\u001b[0m\u001b[1;33m[\u001b[0m\u001b[0mnode\u001b[0m \u001b[1;32mfor\u001b[0m \u001b[0mnode\u001b[0m \u001b[1;32min\u001b[0m \u001b[0mgraph\u001b[0m\u001b[1;33m.\u001b[0m\u001b[0mnodes\u001b[0m\u001b[1;33m(\u001b[0m\u001b[1;33m)\u001b[0m\u001b[1;33m]\u001b[0m\u001b[1;33m)\u001b[0m\u001b[1;33m\u001b[0m\u001b[1;33m\u001b[0m\u001b[0m\n\u001b[0;32m     52\u001b[0m \u001b[1;33m\u001b[0m\u001b[0m\n\u001b[1;32m---> 53\u001b[1;33m         \u001b[1;32massert\u001b[0m \u001b[0mnumeric_indices\u001b[0m \u001b[1;33m==\u001b[0m \u001b[0mnode_indices\u001b[0m\u001b[1;33m,\u001b[0m \u001b[1;34m\"The node indexing is wrong.\"\u001b[0m\u001b[1;33m\u001b[0m\u001b[1;33m\u001b[0m\u001b[0m\n\u001b[0m\u001b[0;32m     54\u001b[0m \u001b[1;33m\u001b[0m\u001b[0m\n\u001b[0;32m     55\u001b[0m     \u001b[1;32mdef\u001b[0m \u001b[0m_check_graph\u001b[0m\u001b[1;33m(\u001b[0m\u001b[0mself\u001b[0m\u001b[1;33m,\u001b[0m \u001b[0mgraph\u001b[0m\u001b[1;33m:\u001b[0m \u001b[0mnx\u001b[0m\u001b[1;33m.\u001b[0m\u001b[0mclasses\u001b[0m\u001b[1;33m.\u001b[0m\u001b[0mgraph\u001b[0m\u001b[1;33m.\u001b[0m\u001b[0mGraph\u001b[0m\u001b[1;33m)\u001b[0m \u001b[1;33m->\u001b[0m \u001b[0mnx\u001b[0m\u001b[1;33m.\u001b[0m\u001b[0mclasses\u001b[0m\u001b[1;33m.\u001b[0m\u001b[0mgraph\u001b[0m\u001b[1;33m.\u001b[0m\u001b[0mGraph\u001b[0m\u001b[1;33m:\u001b[0m\u001b[1;33m\u001b[0m\u001b[1;33m\u001b[0m\u001b[0m\n",
      "\u001b[1;31mAssertionError\u001b[0m: The node indexing is wrong."
     ]
    }
   ],
   "source": [
    "#about 20 m\n",
    "from karateclub.node_embedding.neighbourhood import BoostNE\n",
    "\n",
    "model2 = BoostNE()\n",
    "model2.fit(G)\n",
    "print('fitted Node2Vec')\n",
    "\n",
    "embedding2 = model2.get_embedding()\n",
    "np.save('BoostNE_embedding.npy', embedding2 )"
   ]
  },
  {
   "cell_type": "code",
   "execution_count": 36,
   "metadata": {},
   "outputs": [
    {
     "name": "stdout",
     "output_type": "stream",
     "text": [
      "fitted Node2Vec\n"
     ]
    }
   ],
   "source": [
    "from karateclub.node_embedding.neighbourhood import NetMF\n",
    "\n",
    "model3 = NetMF()\n",
    "model3.fit(G)\n",
    "print('fitted Node2Vec')\n",
    "\n",
    "embedding3 = model3.get_embedding()\n",
    "np.save('NetMF_embedding.npy', embedding3  )"
   ]
  },
  {
   "cell_type": "code",
   "execution_count": 35,
   "metadata": {},
   "outputs": [
    {
     "name": "stderr",
     "output_type": "stream",
     "text": [
      "C:\\ProgramData\\Anaconda3\\envs\\test_karate\\lib\\site-packages\\sklearn\\decomposition\\_nmf.py:1422: FutureWarning: `alpha` was deprecated in version 1.0 and will be removed in 1.2. Use `alpha_W` and `alpha_H` instead\n",
      "  warnings.warn(\n",
      "C:\\ProgramData\\Anaconda3\\envs\\test_karate\\lib\\site-packages\\sklearn\\decomposition\\_nmf.py:1422: FutureWarning: `alpha` was deprecated in version 1.0 and will be removed in 1.2. Use `alpha_W` and `alpha_H` instead\n",
      "  warnings.warn(\n",
      "C:\\ProgramData\\Anaconda3\\envs\\test_karate\\lib\\site-packages\\sklearn\\decomposition\\_nmf.py:1422: FutureWarning: `alpha` was deprecated in version 1.0 and will be removed in 1.2. Use `alpha_W` and `alpha_H` instead\n",
      "  warnings.warn(\n",
      "C:\\ProgramData\\Anaconda3\\envs\\test_karate\\lib\\site-packages\\sklearn\\decomposition\\_nmf.py:1422: FutureWarning: `alpha` was deprecated in version 1.0 and will be removed in 1.2. Use `alpha_W` and `alpha_H` instead\n",
      "  warnings.warn(\n",
      "C:\\ProgramData\\Anaconda3\\envs\\test_karate\\lib\\site-packages\\sklearn\\decomposition\\_nmf.py:1422: FutureWarning: `alpha` was deprecated in version 1.0 and will be removed in 1.2. Use `alpha_W` and `alpha_H` instead\n",
      "  warnings.warn(\n",
      "C:\\ProgramData\\Anaconda3\\envs\\test_karate\\lib\\site-packages\\sklearn\\decomposition\\_nmf.py:1422: FutureWarning: `alpha` was deprecated in version 1.0 and will be removed in 1.2. Use `alpha_W` and `alpha_H` instead\n",
      "  warnings.warn(\n",
      "C:\\ProgramData\\Anaconda3\\envs\\test_karate\\lib\\site-packages\\sklearn\\decomposition\\_nmf.py:1422: FutureWarning: `alpha` was deprecated in version 1.0 and will be removed in 1.2. Use `alpha_W` and `alpha_H` instead\n",
      "  warnings.warn(\n",
      "C:\\ProgramData\\Anaconda3\\envs\\test_karate\\lib\\site-packages\\sklearn\\decomposition\\_nmf.py:1422: FutureWarning: `alpha` was deprecated in version 1.0 and will be removed in 1.2. Use `alpha_W` and `alpha_H` instead\n",
      "  warnings.warn(\n",
      "C:\\ProgramData\\Anaconda3\\envs\\test_karate\\lib\\site-packages\\sklearn\\decomposition\\_nmf.py:1422: FutureWarning: `alpha` was deprecated in version 1.0 and will be removed in 1.2. Use `alpha_W` and `alpha_H` instead\n",
      "  warnings.warn(\n",
      "C:\\ProgramData\\Anaconda3\\envs\\test_karate\\lib\\site-packages\\sklearn\\decomposition\\_nmf.py:1422: FutureWarning: `alpha` was deprecated in version 1.0 and will be removed in 1.2. Use `alpha_W` and `alpha_H` instead\n",
      "  warnings.warn(\n",
      "C:\\ProgramData\\Anaconda3\\envs\\test_karate\\lib\\site-packages\\sklearn\\decomposition\\_nmf.py:1422: FutureWarning: `alpha` was deprecated in version 1.0 and will be removed in 1.2. Use `alpha_W` and `alpha_H` instead\n",
      "  warnings.warn(\n",
      "C:\\ProgramData\\Anaconda3\\envs\\test_karate\\lib\\site-packages\\sklearn\\decomposition\\_nmf.py:1422: FutureWarning: `alpha` was deprecated in version 1.0 and will be removed in 1.2. Use `alpha_W` and `alpha_H` instead\n",
      "  warnings.warn(\n",
      "C:\\ProgramData\\Anaconda3\\envs\\test_karate\\lib\\site-packages\\sklearn\\decomposition\\_nmf.py:1422: FutureWarning: `alpha` was deprecated in version 1.0 and will be removed in 1.2. Use `alpha_W` and `alpha_H` instead\n",
      "  warnings.warn(\n",
      "C:\\ProgramData\\Anaconda3\\envs\\test_karate\\lib\\site-packages\\sklearn\\decomposition\\_nmf.py:1422: FutureWarning: `alpha` was deprecated in version 1.0 and will be removed in 1.2. Use `alpha_W` and `alpha_H` instead\n",
      "  warnings.warn(\n",
      "C:\\ProgramData\\Anaconda3\\envs\\test_karate\\lib\\site-packages\\sklearn\\decomposition\\_nmf.py:1422: FutureWarning: `alpha` was deprecated in version 1.0 and will be removed in 1.2. Use `alpha_W` and `alpha_H` instead\n",
      "  warnings.warn(\n",
      "C:\\ProgramData\\Anaconda3\\envs\\test_karate\\lib\\site-packages\\sklearn\\decomposition\\_nmf.py:1422: FutureWarning: `alpha` was deprecated in version 1.0 and will be removed in 1.2. Use `alpha_W` and `alpha_H` instead\n",
      "  warnings.warn(\n",
      "C:\\ProgramData\\Anaconda3\\envs\\test_karate\\lib\\site-packages\\sklearn\\decomposition\\_nmf.py:1422: FutureWarning: `alpha` was deprecated in version 1.0 and will be removed in 1.2. Use `alpha_W` and `alpha_H` instead\n",
      "  warnings.warn(\n"
     ]
    },
    {
     "name": "stdout",
     "output_type": "stream",
     "text": [
      "fitted Node2Vec\n"
     ]
    }
   ],
   "source": [
    "from karateclub.node_embedding.neighbourhood import DeepWalk\n",
    "\n",
    "model = BoostNE()\n",
    "model.fit(G)\n",
    "print('fitted Node2Vec')\n",
    "\n",
    "embedding2 = model.get_embedding()\n",
    "np.save('DeepWalk_embedding.npy', embedding2  )"
   ]
  },
  {
   "cell_type": "code",
   "execution_count": 37,
   "metadata": {},
   "outputs": [
    {
     "name": "stdout",
     "output_type": "stream",
     "text": [
      "fitted Node2Vec\n"
     ]
    }
   ],
   "source": [
    "#12 s\n",
    "\n",
    "from karateclub.node_embedding.neighbourhood import RandNE\n",
    "\n",
    "model = RandNE()\n",
    "model.fit(G)\n",
    "print('fitted Node2Vec')\n",
    "\n",
    "embedding2 = model.get_embedding()\n",
    "np.save('RandNE_embedding.npy', embedding2  )\n",
    "\n"
   ]
  },
  {
   "cell_type": "code",
   "execution_count": 38,
   "metadata": {},
   "outputs": [
    {
     "ename": "MemoryError",
     "evalue": "Unable to allocate 7.44 GiB for an array with shape (999001139,) and data type int64",
     "output_type": "error",
     "traceback": [
      "\u001b[1;31m---------------------------------------------------------------------------\u001b[0m",
      "\u001b[1;31mMemoryError\u001b[0m                               Traceback (most recent call last)",
      "\u001b[1;32m~\\AppData\\Local\\Temp/ipykernel_15300/474257614.py\u001b[0m in \u001b[0;36m<module>\u001b[1;34m\u001b[0m\n\u001b[0;32m      2\u001b[0m \u001b[1;33m\u001b[0m\u001b[0m\n\u001b[0;32m      3\u001b[0m \u001b[0mmodel\u001b[0m \u001b[1;33m=\u001b[0m \u001b[0mGraRep\u001b[0m\u001b[1;33m(\u001b[0m\u001b[1;33m)\u001b[0m\u001b[1;33m\u001b[0m\u001b[1;33m\u001b[0m\u001b[0m\n\u001b[1;32m----> 4\u001b[1;33m \u001b[0mmodel\u001b[0m\u001b[1;33m.\u001b[0m\u001b[0mfit\u001b[0m\u001b[1;33m(\u001b[0m\u001b[0mG\u001b[0m\u001b[1;33m)\u001b[0m\u001b[1;33m\u001b[0m\u001b[1;33m\u001b[0m\u001b[0m\n\u001b[0m\u001b[0;32m      5\u001b[0m \u001b[0mprint\u001b[0m\u001b[1;33m(\u001b[0m\u001b[1;34m'fitted Node2Vec'\u001b[0m\u001b[1;33m)\u001b[0m\u001b[1;33m\u001b[0m\u001b[1;33m\u001b[0m\u001b[0m\n\u001b[0;32m      6\u001b[0m \u001b[1;33m\u001b[0m\u001b[0m\n",
      "\u001b[1;32mC:\\ProgramData\\Anaconda3\\envs\\test_karate\\lib\\site-packages\\karateclub\\node_embedding\\neighbourhood\\grarep.py\u001b[0m in \u001b[0;36mfit\u001b[1;34m(self, graph)\u001b[0m\n\u001b[0;32m    102\u001b[0m         \u001b[0mself\u001b[0m\u001b[1;33m.\u001b[0m\u001b[0m_create_single_embedding\u001b[0m\u001b[1;33m(\u001b[0m\u001b[0mtarget_matrix\u001b[0m\u001b[1;33m)\u001b[0m\u001b[1;33m\u001b[0m\u001b[1;33m\u001b[0m\u001b[0m\n\u001b[0;32m    103\u001b[0m         \u001b[1;32mfor\u001b[0m \u001b[0mstep\u001b[0m \u001b[1;32min\u001b[0m \u001b[0mrange\u001b[0m\u001b[1;33m(\u001b[0m\u001b[0mself\u001b[0m\u001b[1;33m.\u001b[0m\u001b[0morder\u001b[0m \u001b[1;33m-\u001b[0m \u001b[1;36m1\u001b[0m\u001b[1;33m)\u001b[0m\u001b[1;33m:\u001b[0m\u001b[1;33m\u001b[0m\u001b[1;33m\u001b[0m\u001b[0m\n\u001b[1;32m--> 104\u001b[1;33m             \u001b[0mtarget_matrix\u001b[0m \u001b[1;33m=\u001b[0m \u001b[0mself\u001b[0m\u001b[1;33m.\u001b[0m\u001b[0m_create_target_matrix\u001b[0m\u001b[1;33m(\u001b[0m\u001b[1;33m)\u001b[0m\u001b[1;33m\u001b[0m\u001b[1;33m\u001b[0m\u001b[0m\n\u001b[0m\u001b[0;32m    105\u001b[0m             \u001b[0mself\u001b[0m\u001b[1;33m.\u001b[0m\u001b[0m_create_single_embedding\u001b[0m\u001b[1;33m(\u001b[0m\u001b[0mtarget_matrix\u001b[0m\u001b[1;33m)\u001b[0m\u001b[1;33m\u001b[0m\u001b[1;33m\u001b[0m\u001b[0m\n\u001b[0;32m    106\u001b[0m \u001b[1;33m\u001b[0m\u001b[0m\n",
      "\u001b[1;32mC:\\ProgramData\\Anaconda3\\envs\\test_karate\\lib\\site-packages\\karateclub\\node_embedding\\neighbourhood\\grarep.py\u001b[0m in \u001b[0;36m_create_target_matrix\u001b[1;34m(self)\u001b[0m\n\u001b[0;32m     66\u001b[0m             \u001b[1;33m*\u001b[0m \u001b[1;33m**\u001b[0m\u001b[0mtarget_matrix\u001b[0m\u001b[1;33m**\u001b[0m \u001b[1;33m*\u001b[0m\u001b[1;33m(\u001b[0m\u001b[0mSciPy\u001b[0m \u001b[0marray\u001b[0m\u001b[1;33m)\u001b[0m\u001b[1;33m*\u001b[0m \u001b[1;33m-\u001b[0m \u001b[0mThe\u001b[0m \u001b[0mPMI\u001b[0m \u001b[0mmatrix\u001b[0m\u001b[1;33m.\u001b[0m\u001b[1;33m\u001b[0m\u001b[1;33m\u001b[0m\u001b[0m\n\u001b[0;32m     67\u001b[0m         \"\"\"\n\u001b[1;32m---> 68\u001b[1;33m         \u001b[0mself\u001b[0m\u001b[1;33m.\u001b[0m\u001b[0m_A_tilde\u001b[0m \u001b[1;33m=\u001b[0m \u001b[0msparse\u001b[0m\u001b[1;33m.\u001b[0m\u001b[0mcoo_matrix\u001b[0m\u001b[1;33m(\u001b[0m\u001b[0mself\u001b[0m\u001b[1;33m.\u001b[0m\u001b[0m_A_tilde\u001b[0m\u001b[1;33m.\u001b[0m\u001b[0mdot\u001b[0m\u001b[1;33m(\u001b[0m\u001b[0mself\u001b[0m\u001b[1;33m.\u001b[0m\u001b[0m_A_hat\u001b[0m\u001b[1;33m)\u001b[0m\u001b[1;33m)\u001b[0m\u001b[1;33m\u001b[0m\u001b[1;33m\u001b[0m\u001b[0m\n\u001b[0m\u001b[0;32m     69\u001b[0m         \u001b[0mscores\u001b[0m \u001b[1;33m=\u001b[0m \u001b[0mnp\u001b[0m\u001b[1;33m.\u001b[0m\u001b[0mlog\u001b[0m\u001b[1;33m(\u001b[0m\u001b[0mself\u001b[0m\u001b[1;33m.\u001b[0m\u001b[0m_A_tilde\u001b[0m\u001b[1;33m.\u001b[0m\u001b[0mdata\u001b[0m\u001b[1;33m)\u001b[0m \u001b[1;33m-\u001b[0m \u001b[0mmath\u001b[0m\u001b[1;33m.\u001b[0m\u001b[0mlog\u001b[0m\u001b[1;33m(\u001b[0m\u001b[0mself\u001b[0m\u001b[1;33m.\u001b[0m\u001b[0m_A_tilde\u001b[0m\u001b[1;33m.\u001b[0m\u001b[0mshape\u001b[0m\u001b[1;33m[\u001b[0m\u001b[1;36m0\u001b[0m\u001b[1;33m]\u001b[0m\u001b[1;33m)\u001b[0m\u001b[1;33m\u001b[0m\u001b[1;33m\u001b[0m\u001b[0m\n\u001b[0;32m     70\u001b[0m         \u001b[0mrows\u001b[0m \u001b[1;33m=\u001b[0m \u001b[0mself\u001b[0m\u001b[1;33m.\u001b[0m\u001b[0m_A_tilde\u001b[0m\u001b[1;33m.\u001b[0m\u001b[0mrow\u001b[0m\u001b[1;33m[\u001b[0m\u001b[0mscores\u001b[0m \u001b[1;33m<\u001b[0m \u001b[1;36m0\u001b[0m\u001b[1;33m]\u001b[0m\u001b[1;33m\u001b[0m\u001b[1;33m\u001b[0m\u001b[0m\n",
      "\u001b[1;32mC:\\ProgramData\\Anaconda3\\envs\\test_karate\\lib\\site-packages\\scipy\\sparse\\base.py\u001b[0m in \u001b[0;36mdot\u001b[1;34m(self, other)\u001b[0m\n\u001b[0;32m    357\u001b[0m \u001b[1;33m\u001b[0m\u001b[0m\n\u001b[0;32m    358\u001b[0m         \"\"\"\n\u001b[1;32m--> 359\u001b[1;33m         \u001b[1;32mreturn\u001b[0m \u001b[0mself\u001b[0m \u001b[1;33m*\u001b[0m \u001b[0mother\u001b[0m\u001b[1;33m\u001b[0m\u001b[1;33m\u001b[0m\u001b[0m\n\u001b[0m\u001b[0;32m    360\u001b[0m \u001b[1;33m\u001b[0m\u001b[0m\n\u001b[0;32m    361\u001b[0m     \u001b[1;32mdef\u001b[0m \u001b[0mpower\u001b[0m\u001b[1;33m(\u001b[0m\u001b[0mself\u001b[0m\u001b[1;33m,\u001b[0m \u001b[0mn\u001b[0m\u001b[1;33m,\u001b[0m \u001b[0mdtype\u001b[0m\u001b[1;33m=\u001b[0m\u001b[1;32mNone\u001b[0m\u001b[1;33m)\u001b[0m\u001b[1;33m:\u001b[0m\u001b[1;33m\u001b[0m\u001b[1;33m\u001b[0m\u001b[0m\n",
      "\u001b[1;32mC:\\ProgramData\\Anaconda3\\envs\\test_karate\\lib\\site-packages\\scipy\\sparse\\base.py\u001b[0m in \u001b[0;36m__mul__\u001b[1;34m(self, other)\u001b[0m\n\u001b[0;32m    478\u001b[0m             \u001b[1;32mif\u001b[0m \u001b[0mself\u001b[0m\u001b[1;33m.\u001b[0m\u001b[0mshape\u001b[0m\u001b[1;33m[\u001b[0m\u001b[1;36m1\u001b[0m\u001b[1;33m]\u001b[0m \u001b[1;33m!=\u001b[0m \u001b[0mother\u001b[0m\u001b[1;33m.\u001b[0m\u001b[0mshape\u001b[0m\u001b[1;33m[\u001b[0m\u001b[1;36m0\u001b[0m\u001b[1;33m]\u001b[0m\u001b[1;33m:\u001b[0m\u001b[1;33m\u001b[0m\u001b[1;33m\u001b[0m\u001b[0m\n\u001b[0;32m    479\u001b[0m                 \u001b[1;32mraise\u001b[0m \u001b[0mValueError\u001b[0m\u001b[1;33m(\u001b[0m\u001b[1;34m'dimension mismatch'\u001b[0m\u001b[1;33m)\u001b[0m\u001b[1;33m\u001b[0m\u001b[1;33m\u001b[0m\u001b[0m\n\u001b[1;32m--> 480\u001b[1;33m             \u001b[1;32mreturn\u001b[0m \u001b[0mself\u001b[0m\u001b[1;33m.\u001b[0m\u001b[0m_mul_sparse_matrix\u001b[0m\u001b[1;33m(\u001b[0m\u001b[0mother\u001b[0m\u001b[1;33m)\u001b[0m\u001b[1;33m\u001b[0m\u001b[1;33m\u001b[0m\u001b[0m\n\u001b[0m\u001b[0;32m    481\u001b[0m \u001b[1;33m\u001b[0m\u001b[0m\n\u001b[0;32m    482\u001b[0m         \u001b[1;31m# If it's a list or whatever, treat it like a matrix\u001b[0m\u001b[1;33m\u001b[0m\u001b[1;33m\u001b[0m\u001b[1;33m\u001b[0m\u001b[0m\n",
      "\u001b[1;32mC:\\ProgramData\\Anaconda3\\envs\\test_karate\\lib\\site-packages\\scipy\\sparse\\base.py\u001b[0m in \u001b[0;36m_mul_sparse_matrix\u001b[1;34m(self, other)\u001b[0m\n\u001b[0;32m    537\u001b[0m \u001b[1;33m\u001b[0m\u001b[0m\n\u001b[0;32m    538\u001b[0m     \u001b[1;32mdef\u001b[0m \u001b[0m_mul_sparse_matrix\u001b[0m\u001b[1;33m(\u001b[0m\u001b[0mself\u001b[0m\u001b[1;33m,\u001b[0m \u001b[0mother\u001b[0m\u001b[1;33m)\u001b[0m\u001b[1;33m:\u001b[0m\u001b[1;33m\u001b[0m\u001b[1;33m\u001b[0m\u001b[0m\n\u001b[1;32m--> 539\u001b[1;33m         \u001b[1;32mreturn\u001b[0m \u001b[0mself\u001b[0m\u001b[1;33m.\u001b[0m\u001b[0mtocsr\u001b[0m\u001b[1;33m(\u001b[0m\u001b[1;33m)\u001b[0m\u001b[1;33m.\u001b[0m\u001b[0m_mul_sparse_matrix\u001b[0m\u001b[1;33m(\u001b[0m\u001b[0mother\u001b[0m\u001b[1;33m)\u001b[0m\u001b[1;33m\u001b[0m\u001b[1;33m\u001b[0m\u001b[0m\n\u001b[0m\u001b[0;32m    540\u001b[0m \u001b[1;33m\u001b[0m\u001b[0m\n\u001b[0;32m    541\u001b[0m     \u001b[1;32mdef\u001b[0m \u001b[0m__rmul__\u001b[0m\u001b[1;33m(\u001b[0m\u001b[0mself\u001b[0m\u001b[1;33m,\u001b[0m \u001b[0mother\u001b[0m\u001b[1;33m)\u001b[0m\u001b[1;33m:\u001b[0m  \u001b[1;31m# other * self\u001b[0m\u001b[1;33m\u001b[0m\u001b[1;33m\u001b[0m\u001b[0m\n",
      "\u001b[1;32mC:\\ProgramData\\Anaconda3\\envs\\test_karate\\lib\\site-packages\\scipy\\sparse\\compressed.py\u001b[0m in \u001b[0;36m_mul_sparse_matrix\u001b[1;34m(self, other)\u001b[0m\n\u001b[0;32m    521\u001b[0m         \u001b[0mfn\u001b[0m \u001b[1;33m=\u001b[0m \u001b[0mgetattr\u001b[0m\u001b[1;33m(\u001b[0m\u001b[0m_sparsetools\u001b[0m\u001b[1;33m,\u001b[0m \u001b[0mself\u001b[0m\u001b[1;33m.\u001b[0m\u001b[0mformat\u001b[0m \u001b[1;33m+\u001b[0m \u001b[1;34m'_matmat'\u001b[0m\u001b[1;33m)\u001b[0m\u001b[1;33m\u001b[0m\u001b[1;33m\u001b[0m\u001b[0m\n\u001b[0;32m    522\u001b[0m         fn(M, N, np.asarray(self.indptr, dtype=idx_dtype),\n\u001b[1;32m--> 523\u001b[1;33m            \u001b[0mnp\u001b[0m\u001b[1;33m.\u001b[0m\u001b[0masarray\u001b[0m\u001b[1;33m(\u001b[0m\u001b[0mself\u001b[0m\u001b[1;33m.\u001b[0m\u001b[0mindices\u001b[0m\u001b[1;33m,\u001b[0m \u001b[0mdtype\u001b[0m\u001b[1;33m=\u001b[0m\u001b[0midx_dtype\u001b[0m\u001b[1;33m)\u001b[0m\u001b[1;33m,\u001b[0m\u001b[1;33m\u001b[0m\u001b[1;33m\u001b[0m\u001b[0m\n\u001b[0m\u001b[0;32m    524\u001b[0m            \u001b[0mself\u001b[0m\u001b[1;33m.\u001b[0m\u001b[0mdata\u001b[0m\u001b[1;33m,\u001b[0m\u001b[1;33m\u001b[0m\u001b[1;33m\u001b[0m\u001b[0m\n\u001b[0;32m    525\u001b[0m            \u001b[0mnp\u001b[0m\u001b[1;33m.\u001b[0m\u001b[0masarray\u001b[0m\u001b[1;33m(\u001b[0m\u001b[0mother\u001b[0m\u001b[1;33m.\u001b[0m\u001b[0mindptr\u001b[0m\u001b[1;33m,\u001b[0m \u001b[0mdtype\u001b[0m\u001b[1;33m=\u001b[0m\u001b[0midx_dtype\u001b[0m\u001b[1;33m)\u001b[0m\u001b[1;33m,\u001b[0m\u001b[1;33m\u001b[0m\u001b[1;33m\u001b[0m\u001b[0m\n",
      "\u001b[1;31mMemoryError\u001b[0m: Unable to allocate 7.44 GiB for an array with shape (999001139,) and data type int64"
     ]
    }
   ],
   "source": [
    "from karateclub.node_embedding.neighbourhood import GraRep\n",
    "\n",
    "model = GraRep()\n",
    "model.fit(G)\n",
    "print('fitted Node2Vec')\n",
    "\n",
    "embedding2 = model.get_embedding()\n",
    "np.save('GraRep.npy', embedding2  )"
   ]
  },
  {
   "cell_type": "markdown",
   "metadata": {},
   "source": [
    "### Now load training and test data"
   ]
  },
  {
   "cell_type": "code",
   "execution_count": null,
   "metadata": {},
   "outputs": [],
   "source": [
    "#not goood yet...\n",
    "\n",
    "#to do: relabel"
   ]
  },
  {
   "cell_type": "code",
   "execution_count": 21,
   "metadata": {},
   "outputs": [],
   "source": [
    "#original_indices = np.load('original_indices.npy')\n",
    "#to d0: make this parralel\n",
    "\n",
    "# def load_data(embedding):\n",
    "#     X_train = np.zeros((n_train, embedding.shape[1]))\n",
    "#     #y_train = np.zeros(n_train)     \n",
    "    \n",
    "#     for i,row in df_train.iterrows():\n",
    "#         author = row['author']\n",
    "\n",
    "#         j = int(np.where(original_indices == author)[0]) #I guess this is really not efficient\n",
    "#         X_train[i,:] = embedding[j]#not index i #we need to access node with author_id \n",
    "\n",
    "#         #y_train[i] = row['hindex'] #We loaded this before\n",
    "\n",
    "#     print('training data loaded')\n",
    "\n",
    "#     X_train_1 = X_train[:len(df_train)//5]\n",
    "#     X_validation = X_train[len(df_train)//5:]\n",
    "\n",
    "\n",
    "#     X_test = np.zeros((n_test, wv.vector_size))\n",
    "#     for i,row in df_test.iterrows():\n",
    "#         author = row['author']\n",
    "#         j = np.where(np.array(original_indices) == author)[0]\n",
    "#         X_test[i,:] = embedding[j]# not the right order ?\n",
    "#     print('testing data loaded')\n",
    "\n",
    "#     return X_train, X_test"
   ]
  },
  {
   "cell_type": "code",
   "execution_count": 22,
   "metadata": {},
   "outputs": [],
   "source": [
    "# #choose an embedding\n",
    "# embedding = np.load('Deepwalk_embedding_2.npy')"
   ]
  },
  {
   "cell_type": "code",
   "execution_count": 25,
   "metadata": {},
   "outputs": [],
   "source": [
    "# X_train, X_test = load_data(embedding)\n",
    "# np.save('X_train_'+str(embedding)+'.npy', X_train)\n",
    "# np.save('X_test_'+str(embedding)+'.npy', X_test)"
   ]
  },
  {
   "cell_type": "code",
   "execution_count": null,
   "metadata": {},
   "outputs": [],
   "source": [
    "#relabelling test\n",
    "G = nx.relabel_nodes(G, inverse_mapping)\n",
    "#we have ids again"
   ]
  },
  {
   "cell_type": "code",
   "execution_count": 6,
   "metadata": {},
   "outputs": [
    {
     "name": "stdout",
     "output_type": "stream",
     "text": [
      "(174241, 128)\n",
      "training data loaded\n",
      "testing data loaded\n"
     ]
    }
   ],
   "source": [
    "#6 s\n",
    "\n",
    "embedding = np.load('RandNE_embedding.npy')\n",
    "\n",
    "X_train = np.zeros((n_train, len(embedding[0])))\n",
    "y_train = np.zeros(n_train)\n",
    "print(X_train.shape)\n",
    "\n",
    "for i,row in df_train.iterrows():\n",
    "    #print a counter\n",
    "    # if (i %100) == 0 :\n",
    "    #     print(i)\n",
    "    author = row['author']\n",
    "    #print(author)\n",
    "    #j = int(np.where(original_indices == author)[0]) #I guess this is really not efficient\n",
    "    j = mapping_to_indices[author]#not so sure\n",
    "    X_train[i,:] = embedding[j]#not index i #we need to access node with author_id \n",
    "    #y_train[i] = row['hindex']\n",
    "\n",
    "print('training data loaded')\n",
    "\n",
    "X_test = np.zeros((n_test, len(embedding[0])))\n",
    "for i,row in df_test.iterrows():\n",
    "    author = row['author']\n",
    "    #j = np.where(np.array(original_indices) == author)[0]\n",
    "    j = mapping_to_indices[author]#not so sure\n",
    "    #to do: write an exceptio\n",
    "    X_test[i,:] = embedding[j]# not the right order ?\n",
    "print('testing data loaded')"
   ]
  },
  {
   "cell_type": "code",
   "execution_count": 99,
   "metadata": {},
   "outputs": [],
   "source": [
    "# embedding = np.load('meta_embedding.npy')\n",
    "\n",
    "# X_train = np.zeros((n_train, len(embedding[0])))\n",
    "# y_train = np.zeros(n_train)\n",
    "# print(X_train.shape)\n",
    "\n",
    "\n",
    "# for i,row in df_train.iterrows():\n",
    "#     #print a counter\n",
    "#     # if (i %100) == 0 :\n",
    "#     #     print(i)\n",
    "#     author = row['author']\n",
    "#     #print(author)\n",
    "#     j = int(np.where(original_indices == author)[0]) #I guess this is really not efficient\n",
    "#     X_train[i,:] = embedding[j]#not index i #we need to access node with author_id \n",
    "#     #y_train[i] = row['hindex']\n",
    "\n",
    "# print('training data loaded')\n",
    "\n",
    "# X_test = np.zeros((n_test, len(embedding[0])))\n",
    "# for i,row in df_test.iterrows():\n",
    "#     author = row['author']\n",
    "#     j = np.where(np.array(original_indices) == author)[0]\n",
    "#     #to do: write an exceptio\n",
    "#     X_test[i,:] = embedding[j]# not the right order ?\n",
    "# print('testing data loaded')"
   ]
  },
  {
   "cell_type": "code",
   "execution_count": 7,
   "metadata": {},
   "outputs": [],
   "source": [
    "np.save('X_train_RandNE.npy', X_train)\n",
    "np.save('X_test_RandNE.npy', X_test)"
   ]
  },
  {
   "cell_type": "markdown",
   "metadata": {},
   "source": [
    "## Regression\n",
    "\n",
    "Now that we have features, we can assemble them and perform regression to get our prediction model.<br/>\n",
    "here, we load pre-computed features"
   ]
  },
  {
   "cell_type": "code",
   "execution_count": 21,
   "metadata": {},
   "outputs": [],
   "source": [
    "#single cell for y_train (to run if not loaded yet)\n",
    "y_train = np.zeros(n_train)\n",
    "for i,row in df_train.iterrows():\n",
    "    y_train[i] = row['hindex']"
   ]
  },
  {
   "cell_type": "code",
   "execution_count": 22,
   "metadata": {},
   "outputs": [],
   "source": [
    "#TO DO: CHANGE THIS -> automatize this in order to stack any features easily\n",
    "\n",
    "a1 = np.load('X_train_abstract.npy')\n",
    "a2 = np.load('X_train_graph.npy')\n",
    "a3 = np.load('X_train_RandNE.npy')\n",
    "\n",
    "b1 = np.load('X_test_abstract.npy')\n",
    "b2 = np.load('X_test_graph.npy')\n",
    "b3 = np.load('X_test_RandNE.npy')\n",
    "\n",
    "\n",
    "#might meed normalization... ?"
   ]
  },
  {
   "cell_type": "code",
   "execution_count": 23,
   "metadata": {},
   "outputs": [
    {
     "name": "stdout",
     "output_type": "stream",
     "text": [
      "(174241, 445)\n",
      "(43560, 445)\n"
     ]
    }
   ],
   "source": [
    "#stack features from the abstract and the graph\n",
    "\n",
    "X_train = np.concatenate((a1, a2, a3), axis=1)\n",
    "print(X_train.shape)\n",
    "X_test = np.concatenate((b1, b2, b3), axis=1)\n",
    "print(X_test.shape)\n",
    "\n"
   ]
  },
  {
   "cell_type": "code",
   "execution_count": 24,
   "metadata": {},
   "outputs": [],
   "source": [
    "#split\n",
    "#problem here ! -> the split must be randomized !\n",
    "\n",
    "s = np.arange(X_train.shape[0])\n",
    "np.random.shuffle(s)\n",
    "X_train  = X_train[s]\n",
    "y_train = y_train[s]\n",
    "\n",
    "# X_test = X_test[s]\n",
    "# y_test = y_test[s]\n",
    "\n",
    "\n",
    "X_train_1 = X_train[len(df_train)//5:]\n",
    "y_train_1 = y_train[len(df_train)//5:]\n",
    "\n",
    "X_validation= X_train[:len(df_train)//5]\n",
    "y_validation = y_train[:len(df_train)//5]\n",
    "\n",
    "\n",
    "#is this of any use ?\n",
    "# #X_test = np.zeros((n_test, wv.vector_size))\n",
    "# X_test = np.zeros((n_test, 1))\n",
    "# for i,row in df_test.iterrows():\n",
    "#     author = row['author']\n",
    "#     X_test[i,:] = get_author_value(author)\n",
    "# print('testing data loaded')"
   ]
  },
  {
   "cell_type": "code",
   "execution_count": 25,
   "metadata": {},
   "outputs": [
    {
     "name": "stdout",
     "output_type": "stream",
     "text": [
      "[ 7.  4. 50. ...  2.  3.  1.]\n",
      "[ 7.  4. 50. ... 29.  6. 43.]\n"
     ]
    }
   ],
   "source": [
    "print(y_train)\n",
    "print(y_validation)"
   ]
  },
  {
   "cell_type": "code",
   "execution_count": 26,
   "metadata": {},
   "outputs": [
    {
     "name": "stdout",
     "output_type": "stream",
     "text": [
      "----- train:\n",
      "(174241, 445)\n",
      "(174241,)\n",
      "----- train_1\n",
      "(139393, 445)\n",
      "(139393,)\n",
      "----- validation\n",
      "(34848, 445)\n",
      "(34848,)\n",
      "----- test\n",
      "(43560, 445)\n"
     ]
    }
   ],
   "source": [
    "print('----- train:')\n",
    "print(X_train.shape)\n",
    "print(y_train.shape)\n",
    "print('----- train_1')\n",
    "print(X_train_1.shape)\n",
    "print(y_train_1.shape)\n",
    "print('----- validation')\n",
    "print(X_validation.shape)\n",
    "print(y_validation.shape)\n",
    "print('----- test')\n",
    "print(X_test.shape)"
   ]
  },
  {
   "cell_type": "markdown",
   "metadata": {},
   "source": [
    "## Regression on X_train_1 and y_train_1\n",
    "(we do this to evaluate the MLE with a validation set "
   ]
  },
  {
   "cell_type": "code",
   "execution_count": 32,
   "metadata": {},
   "outputs": [
    {
     "name": "stdout",
     "output_type": "stream",
     "text": [
      "regressor loaded\n",
      "Iteration 1, loss = 2988.15995891\n",
      "Iteration 2, loss = 45.20411263\n",
      "Iteration 3, loss = 67.87601503\n",
      "Iteration 4, loss = 6469.01810715\n",
      "Iteration 5, loss = 170.65959234\n",
      "Iteration 6, loss = 37.07347298\n",
      "Iteration 7, loss = 37.65246037\n",
      "Iteration 8, loss = 108.45396415\n",
      "Iteration 9, loss = 95.75932910\n",
      "Iteration 10, loss = 1615.39035138\n",
      "Iteration 11, loss = 38.76132556\n",
      "Iteration 12, loss = 87.64722311\n",
      "Iteration 13, loss = 318.28709917\n",
      "Iteration 14, loss = 104.23461710\n",
      "Iteration 15, loss = 2539.88834955\n",
      "Iteration 16, loss = 34.99672604\n",
      "Iteration 17, loss = 32.51426871\n",
      "Iteration 18, loss = 137.70516708\n",
      "Iteration 19, loss = 1365.15821747\n",
      "Iteration 20, loss = 32.24855098\n",
      "Iteration 21, loss = 57.08675135\n",
      "Iteration 22, loss = 34.62608285\n",
      "Iteration 23, loss = 318.11488584\n",
      "Iteration 24, loss = 65.70767475\n",
      "Iteration 25, loss = 322.46087473\n",
      "Iteration 26, loss = 45.10298960\n",
      "Iteration 27, loss = 76.62903692\n",
      "Iteration 28, loss = 365.03150806\n",
      "Iteration 29, loss = 49.71709662\n",
      "Iteration 30, loss = 70.04083708\n",
      "Iteration 31, loss = 90.01338962\n",
      "Training loss did not improve more than tol=0.000001 for 10 consecutive epochs. Stopping.\n",
      "data fitted\n"
     ]
    }
   ],
   "source": [
    "from sklearn.neural_network import MLPRegressor\n",
    "\n",
    "#reg = Lasso(alpha=0.001)\n",
    "reg = MLPRegressor(hidden_layer_sizes=(100, ), activation='relu', solver='adam', alpha=0.00001, verbose = 1, max_iter=400, tol = 1*pow(10, -6))#use pytorch implementation instead (way faster)\n",
    "\n",
    "print(\"regressor loaded\")\n",
    "reg.fit(X_train_1, y_train_1)\n",
    "print('data fitted')"
   ]
  },
  {
   "cell_type": "code",
   "execution_count": 30,
   "metadata": {},
   "outputs": [],
   "source": [
    "def compute_mse(y_pred_1, y_validation):\n",
    "    mse = (np.square(y_pred_1 - y_validation)).mean(axis=0)\n",
    "    print(y_pred_1[10:20])\n",
    "    print(y_validation[10:20])\n",
    "    print('MSE =',  mse)"
   ]
  },
  {
   "cell_type": "code",
   "execution_count": 31,
   "metadata": {},
   "outputs": [
    {
     "name": "stdout",
     "output_type": "stream",
     "text": [
      "data predicted\n",
      "[ 5.77212163  9.97485421  7.99284417  3.03551178 30.19739164  8.01789249\n",
      " 10.5685375   4.1815387   2.03831815  7.27398139]\n",
      "[10.  7.  9.  2. 33. 15.  6.  3.  1.  1.]\n",
      "MSE = 68.18358862074741\n"
     ]
    }
   ],
   "source": [
    "y_pred_1 = reg.predict(X_validation)\n",
    "print('data predicted')\n",
    "\n",
    "compute_mse(y_pred_1, y_validation)"
   ]
  },
  {
   "cell_type": "code",
   "execution_count": null,
   "metadata": {},
   "outputs": [],
   "source": [
    "#to to: cast the final values as integers then floats"
   ]
  },
  {
   "cell_type": "markdown",
   "metadata": {},
   "source": [
    "## Regression on whole X_train\n",
    "(used for submission for better accuracy)"
   ]
  },
  {
   "cell_type": "code",
   "execution_count": 54,
   "metadata": {},
   "outputs": [
    {
     "data": {
      "text/plain": [
       "(174241, 460)"
      ]
     },
     "execution_count": 54,
     "metadata": {},
     "output_type": "execute_result"
    }
   ],
   "source": [
    "X_train.shape"
   ]
  },
  {
   "cell_type": "code",
   "execution_count": 19,
   "metadata": {},
   "outputs": [
    {
     "name": "stdout",
     "output_type": "stream",
     "text": [
      "regressor loaded\n",
      "Iteration 1, loss = 611.76928075\n",
      "Iteration 2, loss = 2015.26490950\n",
      "Iteration 3, loss = 50.89147264\n",
      "Iteration 4, loss = 92.80292838\n",
      "Iteration 5, loss = 181.17751738\n",
      "Iteration 6, loss = 633.24821262\n",
      "Iteration 7, loss = 507.24651179\n",
      "Iteration 8, loss = 217.45587512\n",
      "Iteration 9, loss = 153.50621455\n",
      "Iteration 10, loss = 272.17641987\n",
      "Iteration 11, loss = 381.90151610\n",
      "Iteration 12, loss = 62.85169288\n",
      "Iteration 13, loss = 3950.69218129\n",
      "Iteration 14, loss = 34.09516691\n",
      "Iteration 15, loss = 34.66467383\n",
      "Iteration 16, loss = 35.62793855\n",
      "Iteration 17, loss = 47.26593986\n",
      "Iteration 18, loss = 600.98670094\n",
      "Iteration 19, loss = 32.58747021\n",
      "Iteration 20, loss = 101.62147990\n",
      "Iteration 21, loss = 157.64609986\n",
      "Iteration 22, loss = 49.02982186\n",
      "Iteration 23, loss = 82.06309304\n",
      "Iteration 24, loss = 100.06606007\n",
      "Iteration 25, loss = 119.41570764\n",
      "Iteration 26, loss = 85.31511827\n",
      "Iteration 27, loss = 67.37877183\n",
      "Iteration 28, loss = 45.60185849\n",
      "Iteration 29, loss = 103.86330153\n",
      "Iteration 30, loss = 90.24019112\n",
      "Training loss did not improve more than tol=0.000100 for 10 consecutive epochs. Stopping.\n",
      "data fitted\n",
      "data predicted\n"
     ]
    }
   ],
   "source": [
    "from sklearn.neural_network import MLPRegressor\n",
    "\n",
    "#reg = Lasso(alpha=0.01)\n",
    "#might want to change batch size\n",
    "#might want to have several hidden layers\n",
    "reg = MLPRegressor(hidden_layer_sizes=(100, ), activation='relu', solver='adam', alpha=0.0001, max_iter=400, verbose=1)#use pytorch implementation instead (way faster)\n",
    "\n",
    "print(\"regressor loaded\")\n",
    "reg.fit(X_train, y_train)\n",
    "print('data fitted')\n",
    "y_pred = reg.predict(X_test)\n",
    "print('data predicted')"
   ]
  },
  {
   "cell_type": "code",
   "execution_count": 84,
   "metadata": {},
   "outputs": [
    {
     "name": "stdout",
     "output_type": "stream",
     "text": [
      "data written\n"
     ]
    }
   ],
   "source": [
    "# write the predictions to file\n",
    "df_test['hindex'] = pd.Series(np.round_(y_pred, decimals=3))\n",
    "\n",
    "df_test.loc[:,[\"author\",\"hindex\"]].to_csv('submission.csv', index=False)\n",
    "print('data written')"
   ]
  },
  {
   "cell_type": "code",
   "execution_count": null,
   "metadata": {},
   "outputs": [],
   "source": [
    "#USE AN MLP FROM PYTORCH"
   ]
  },
  {
   "cell_type": "markdown",
   "metadata": {},
   "source": [
    "## Regression on X_train_1 and y_train_1 using pytorch MLP\n",
    "(we do this to evaluate the MLE without needing to submit on kaggle)"
   ]
  },
  {
   "cell_type": "code",
   "execution_count": 27,
   "metadata": {},
   "outputs": [],
   "source": [
    "import torch\n",
    "from torch import nn\n",
    "from torch.utils.data import DataLoader\n",
    "from sklearn.datasets import load_boston\n",
    "from sklearn.preprocessing import StandardScaler"
   ]
  },
  {
   "cell_type": "code",
   "execution_count": 180,
   "metadata": {},
   "outputs": [
    {
     "name": "stdout",
     "output_type": "stream",
     "text": [
      "cuda:0\n"
     ]
    }
   ],
   "source": [
    "device = torch.device('cuda:0' if torch.cuda.is_available() else 'cpu')\n",
    "print(device)"
   ]
  },
  {
   "cell_type": "code",
   "execution_count": 181,
   "metadata": {},
   "outputs": [],
   "source": [
    "class Dataset(torch.utils.data.Dataset):\n",
    "  '''\n",
    "  Prepare the Boston dataset for regression\n",
    "  '''\n",
    "\n",
    "  def __init__(self, X, y, scale_data=True):\n",
    "    if not torch.is_tensor(X) and not torch.is_tensor(y):\n",
    "      # Apply scaling if necessary\n",
    "      if scale_data:\n",
    "          X = StandardScaler().fit_transform(X)\n",
    "      self.X = torch.from_numpy(X)\n",
    "      self.y = torch.from_numpy(y)\n",
    "\n",
    "  def __len__(self):\n",
    "      return len(self.X)\n",
    "\n",
    "  def __getitem__(self, i):\n",
    "      return self.X[i], self.y[i]"
   ]
  },
  {
   "cell_type": "code",
   "execution_count": 182,
   "metadata": {},
   "outputs": [],
   "source": [
    "class MLP(nn.Module):\n",
    "  '''\n",
    "    Multilayer Perceptron for regression.\n",
    "  '''\n",
    "  def __init__(self):\n",
    "    super().__init__()\n",
    "    self.layers = nn.Sequential(\n",
    "      \n",
    "      nn.Linear(X_train_1.shape[1], 100),\n",
    "      nn.ReLU(),\n",
    "      nn.Linear(100, 60),\n",
    "      nn.ReLU(),\n",
    "      nn.Linear(60, 32),\n",
    "      nn.Dropout(0.5),\n",
    "      nn.ReLU(),\n",
    "      nn.Linear(32, 1),\n",
    "      nn.Dropout(0.8)\n",
    "      #nn.ReLU(),\n",
    "    )\n",
    "\n",
    "\n",
    "  def forward(self, x):\n",
    "    '''\n",
    "      Forward pass\n",
    "    '''\n",
    "    return self.layers(x)"
   ]
  },
  {
   "cell_type": "code",
   "execution_count": 183,
   "metadata": {},
   "outputs": [],
   "source": [
    "#might want to change the baseline\n",
    "\n",
    "# Prepare dataset\n",
    "# dataset = Dataset(X_train, y_train)\n",
    "# trainloader = torch.utils.data.DataLoader(dataset, batch_size=20, shuffle=True, num_workers=0)\n",
    "\n",
    "#training (with validation)\n",
    "dataset_train_1 = Dataset(X_train_1, y_train_1)\n",
    "trainloader = torch.utils.data.DataLoader(dataset_train_1, batch_size=600, shuffle=True, num_workers=0)\n",
    "\n",
    "#validation\n",
    "dataset_valid = Dataset(X_validation, y_validation)\n",
    "valid_loader = torch.utils.data.DataLoader(dataset_valid, batch_size=600, shuffle=True, num_workers=0)"
   ]
  },
  {
   "cell_type": "code",
   "execution_count": 194,
   "metadata": {},
   "outputs": [],
   "source": [
    " # Initialize the MLP\n",
    "mlp = MLP().to(device)\n",
    "# Define the loss function and optimizer\n",
    "#loss_function = nn.L1Loss()\n",
    "loss_function = nn.MSELoss()\n",
    "optimizer = torch.optim.Adam(mlp.parameters(), lr=1e-3, weight_decay=0.005)"
   ]
  },
  {
   "cell_type": "code",
   "execution_count": 195,
   "metadata": {},
   "outputs": [
    {
     "name": "stdout",
     "output_type": "stream",
     "text": [
      "MLP(\n",
      "  (layers): Sequential(\n",
      "    (0): Linear(in_features=332, out_features=100, bias=True)\n",
      "    (1): ReLU()\n",
      "    (2): Linear(in_features=100, out_features=60, bias=True)\n",
      "    (3): ReLU()\n",
      "    (4): Linear(in_features=60, out_features=32, bias=True)\n",
      "    (5): Dropout(p=0.5, inplace=False)\n",
      "    (6): ReLU()\n",
      "    (7): Linear(in_features=32, out_features=1, bias=True)\n",
      "    (8): Dropout(p=0.8, inplace=False)\n",
      "  )\n",
      ")\n"
     ]
    }
   ],
   "source": [
    "print(mlp)"
   ]
  },
  {
   "cell_type": "code",
   "execution_count": 196,
   "metadata": {},
   "outputs": [],
   "source": [
    "#TRAINING\n",
    "\n",
    "def train_model(model, optizmizer, loss_function):\n",
    "    iter = 0\n",
    "    num_epochs = 100\n",
    "    history_train_acc, history_val_acc, history_train_loss, history_val_loss = [], [], [], []\n",
    "    #best_accuracy = 0\n",
    "\n",
    "    # Run the training loop\n",
    "    for epoch in range(num_epochs): \n",
    "      \n",
    "      # Print epoch\n",
    "      print(f'Starting epoch {epoch+1}')\n",
    "      \n",
    "      # Set current loss value\n",
    "      current_loss = 0.0\n",
    "      \n",
    "      # Iterate over the DataLoader for training data\n",
    "      for i, data in enumerate(trainloader):\n",
    "        best_val_loss = 10**10000\n",
    "        # Get and prepare inputs\n",
    "        inputs, targets = data\n",
    "        inputs, targets = inputs.float().to(device), targets.float().to(device)\n",
    "        targets = targets.reshape((targets.shape[0], 1))\n",
    "        \n",
    "        # Zero the gradients\n",
    "        optimizer.zero_grad()\n",
    "        \n",
    "        # Perform forward pass\n",
    "        #outputs = mlp(inputs)\n",
    "        #print('inputs: ', inputs.shape)\n",
    "       # print('model.layers', model.layers)\n",
    "        outputs = model(inputs)\n",
    "        #print('passed forward pass')\n",
    "        \n",
    "        # Compute loss\n",
    "        loss = loss_function(outputs, targets)\n",
    "\n",
    "        # Perform backward pass\n",
    "        loss.backward()\n",
    "\n",
    "        # Perform optimization\n",
    "        optimizer.step()\n",
    "\n",
    "        iter += 1\n",
    "\n",
    "        if iter % 100 == 0:\n",
    "              # Get training statistics\n",
    "              train_loss = loss.data.item()\n",
    "\n",
    "              # Testing mode\n",
    "              model.eval()\n",
    "              # Calculate Accuracy         \n",
    "              correct = 0\n",
    "              total = 0\n",
    "              # Iterate through test dataset\n",
    "              for inputs, targets in valid_loader:\n",
    "                  # Load samples\n",
    "                  #samples = samples.view(-1, max_len).to(device)\n",
    "                  #labels = labels.view(-1).to(device)\n",
    "\n",
    "                  #inputs, targets = data\n",
    "                  inputs, targets = inputs.float().to(device), targets.float().to(device)\n",
    "                  targets = targets.reshape((targets.shape[0], 1))\n",
    "\n",
    "                  # Forward pass only to get logits/output\n",
    "                  outputs = model(inputs)\n",
    "\n",
    "                  # Val loss\n",
    "                  #val_loss = criterion(outputs.view(-1, 1), la.bels.view(-1, 1))\n",
    "                  val_loss = loss_function(outputs, targets)\n",
    "        # Print Loss\n",
    "              print('Iter: {} | Train Loss: {} | Val Loss: {} '.format(iter, train_loss, val_loss.item()))\n",
    "              # Append to history\n",
    "              history_val_loss.append(val_loss.data.item())\n",
    "              #history_val_acc.append(round(accuracy, 2))\n",
    "              history_train_loss.append(train_loss)\n",
    "\n",
    "              #to do: save the best model:\n",
    "              #we take the model with lowest \n",
    "              # Save model when accuracy beats best accuracy (TO DO !!!!)\n",
    "              if val_loss.data.item() < best_val_loss:\n",
    "                   best_val_loss = val_loss.data.item()\n",
    "              #     # We can load this best model on the validation set later\n",
    "                   torch.save(model.state_dict(), 'best_model.pth')\n",
    "    return (history_train_acc, history_val_acc, history_train_loss, history_val_loss)\n",
    "\n",
    "\n",
    "    #     # Print statistics\n",
    "    #     current_loss += loss.item()\n",
    "    #     if i % 1000 == 0:\n",
    "    #         print('Loss after mini-batch %5d: %.3f' %\n",
    "    #               (i + 1, current_loss / 500))\n",
    "    #         current_loss = 0.0\n",
    "\n",
    "    # # Process is complete.\n",
    "    # print('Training process has finished.')"
   ]
  },
  {
   "cell_type": "code",
   "execution_count": 197,
   "metadata": {},
   "outputs": [],
   "source": [
    "#to update\n",
    "from matplotlib import pyplot as plt\n",
    "\n",
    "def plot_losses(history_train_loss, history_val_loss):\n",
    "    # Set plotting style\n",
    "    #plt.style.use(('dark_background', 'bmh'))\n",
    "    plt.style.use('bmh')\n",
    "    plt.rc('axes', facecolor='none')\n",
    "    plt.rc('figure', figsize=(16, 4))\n",
    "\n",
    "    # Plotting loss graph\n",
    "    plt.plot(history_train_loss, label='Train')\n",
    "    plt.plot(history_val_loss, label='Validation')\n",
    "    plt.title('Loss Graph')\n",
    "    plt.legend()\n",
    "    plt.show()"
   ]
  },
  {
   "cell_type": "code",
   "execution_count": null,
   "metadata": {},
   "outputs": [],
   "source": []
  },
  {
   "cell_type": "code",
   "execution_count": 198,
   "metadata": {},
   "outputs": [
    {
     "name": "stdout",
     "output_type": "stream",
     "text": [
      "Starting epoch 1\n",
      "Starting epoch 2\n",
      "Iter: 100 | Train Loss: 276.1827697753906 | Val Loss: 243.7613525390625 \n",
      "Starting epoch 3\n",
      "Starting epoch 4\n",
      "Iter: 200 | Train Loss: 108.77285766601562 | Val Loss: 73.60255432128906 \n",
      "Starting epoch 5\n",
      "Starting epoch 6\n",
      "Iter: 300 | Train Loss: 156.51376342773438 | Val Loss: 85.48135375976562 \n",
      "Starting epoch 7\n",
      "Iter: 400 | Train Loss: 118.30912017822266 | Val Loss: 71.32695770263672 \n",
      "Starting epoch 8\n",
      "Starting epoch 9\n",
      "Iter: 500 | Train Loss: 92.95774841308594 | Val Loss: 57.54938507080078 \n",
      "Starting epoch 10\n",
      "Starting epoch 11\n",
      "Iter: 600 | Train Loss: 91.7079849243164 | Val Loss: 50.902549743652344 \n",
      "Starting epoch 12\n",
      "Iter: 700 | Train Loss: 81.655029296875 | Val Loss: 68.87342071533203 \n",
      "Starting epoch 13\n",
      "Starting epoch 14\n",
      "Iter: 800 | Train Loss: 100.67245483398438 | Val Loss: 81.23560333251953 \n",
      "Starting epoch 15\n",
      "Starting epoch 16\n",
      "Iter: 900 | Train Loss: 79.39380645751953 | Val Loss: 78.11705017089844 \n",
      "Starting epoch 17\n",
      "Iter: 1000 | Train Loss: 69.82415771484375 | Val Loss: 64.01739501953125 \n",
      "Starting epoch 18\n",
      "Starting epoch 19\n",
      "Iter: 1100 | Train Loss: 123.53073120117188 | Val Loss: 70.85674285888672 \n",
      "Starting epoch 20\n",
      "Starting epoch 21\n",
      "Iter: 1200 | Train Loss: 105.92745208740234 | Val Loss: 56.8984375 \n",
      "Starting epoch 22\n",
      "Starting epoch 23\n",
      "Iter: 1300 | Train Loss: 65.84252166748047 | Val Loss: 77.76546478271484 \n",
      "Starting epoch 24\n",
      "Iter: 1400 | Train Loss: 62.828678131103516 | Val Loss: 100.53302764892578 \n",
      "Starting epoch 25\n",
      "Starting epoch 26\n",
      "Iter: 1500 | Train Loss: 84.3355484008789 | Val Loss: 88.80475616455078 \n",
      "Starting epoch 27\n",
      "Starting epoch 28\n",
      "Iter: 1600 | Train Loss: 70.11356353759766 | Val Loss: 47.193946838378906 \n",
      "Starting epoch 29\n",
      "Iter: 1700 | Train Loss: 56.9626579284668 | Val Loss: 77.88994598388672 \n",
      "Starting epoch 30\n",
      "Starting epoch 31\n",
      "Iter: 1800 | Train Loss: 59.533634185791016 | Val Loss: 80.76758575439453 \n",
      "Starting epoch 32\n",
      "Starting epoch 33\n",
      "Iter: 1900 | Train Loss: 59.95286560058594 | Val Loss: 67.16613006591797 \n",
      "Starting epoch 34\n",
      "Iter: 2000 | Train Loss: 62.14344024658203 | Val Loss: 55.22066116333008 \n",
      "Starting epoch 35\n",
      "Starting epoch 36\n",
      "Iter: 2100 | Train Loss: 67.98503112792969 | Val Loss: 64.731689453125 \n",
      "Starting epoch 37\n",
      "Starting epoch 38\n",
      "Iter: 2200 | Train Loss: 54.39995193481445 | Val Loss: 81.5360107421875 \n",
      "Starting epoch 39\n",
      "Iter: 2300 | Train Loss: 51.89222717285156 | Val Loss: 65.57508087158203 \n",
      "Starting epoch 40\n",
      "Starting epoch 41\n",
      "Iter: 2400 | Train Loss: 47.83712387084961 | Val Loss: 83.66230010986328 \n",
      "Starting epoch 42\n",
      "Starting epoch 43\n",
      "Iter: 2500 | Train Loss: 49.91392517089844 | Val Loss: 72.34004211425781 \n",
      "Starting epoch 44\n",
      "Starting epoch 45\n",
      "Iter: 2600 | Train Loss: 44.02354431152344 | Val Loss: 70.01973724365234 \n",
      "Starting epoch 46\n",
      "Iter: 2700 | Train Loss: 54.54526901245117 | Val Loss: 75.69237518310547 \n",
      "Starting epoch 47\n",
      "Starting epoch 48\n",
      "Iter: 2800 | Train Loss: 36.8711051940918 | Val Loss: 89.13795471191406 \n",
      "Starting epoch 49\n",
      "Starting epoch 50\n",
      "Iter: 2900 | Train Loss: 47.48832702636719 | Val Loss: 63.694664001464844 \n",
      "Starting epoch 51\n",
      "Iter: 3000 | Train Loss: 38.862518310546875 | Val Loss: 130.4407501220703 \n",
      "Starting epoch 52\n",
      "Starting epoch 53\n",
      "Iter: 3100 | Train Loss: 42.501426696777344 | Val Loss: 74.64707946777344 \n",
      "Starting epoch 54\n",
      "Starting epoch 55\n",
      "Iter: 3200 | Train Loss: 34.53932189941406 | Val Loss: 159.79742431640625 \n",
      "Starting epoch 56\n",
      "Iter: 3300 | Train Loss: 31.893972396850586 | Val Loss: 66.6721420288086 \n",
      "Starting epoch 57\n",
      "Starting epoch 58\n",
      "Iter: 3400 | Train Loss: 33.22553253173828 | Val Loss: 82.4002685546875 \n",
      "Starting epoch 59\n",
      "Starting epoch 60\n",
      "Iter: 3500 | Train Loss: 30.712779998779297 | Val Loss: 91.29138946533203 \n",
      "Starting epoch 61\n",
      "Starting epoch 62\n",
      "Iter: 3600 | Train Loss: 29.795251846313477 | Val Loss: 86.63910675048828 \n",
      "Starting epoch 63\n",
      "Iter: 3700 | Train Loss: 27.70192527770996 | Val Loss: 94.76228332519531 \n",
      "Starting epoch 64\n",
      "Starting epoch 65\n",
      "Iter: 3800 | Train Loss: 26.988712310791016 | Val Loss: 102.77149200439453 \n",
      "Starting epoch 66\n",
      "Starting epoch 67\n",
      "Iter: 3900 | Train Loss: 36.91817092895508 | Val Loss: 69.84473419189453 \n",
      "Starting epoch 68\n",
      "Iter: 4000 | Train Loss: 24.26924705505371 | Val Loss: 71.2711410522461 \n",
      "Starting epoch 69\n",
      "Starting epoch 70\n",
      "Iter: 4100 | Train Loss: 24.01216697692871 | Val Loss: 72.94952392578125 \n",
      "Starting epoch 71\n",
      "Starting epoch 72\n",
      "Iter: 4200 | Train Loss: 23.969472885131836 | Val Loss: 75.38743591308594 \n",
      "Starting epoch 73\n",
      "Iter: 4300 | Train Loss: 22.972919464111328 | Val Loss: 95.29173278808594 \n",
      "Starting epoch 74\n",
      "Starting epoch 75\n",
      "Iter: 4400 | Train Loss: 24.518871307373047 | Val Loss: 96.11982727050781 \n",
      "Starting epoch 76\n",
      "Starting epoch 77\n",
      "Iter: 4500 | Train Loss: 23.914936065673828 | Val Loss: 94.36772918701172 \n",
      "Starting epoch 78\n",
      "Iter: 4600 | Train Loss: 20.594329833984375 | Val Loss: 126.9915771484375 \n",
      "Starting epoch 79\n",
      "Starting epoch 80\n",
      "Iter: 4700 | Train Loss: 23.89854621887207 | Val Loss: 84.89131927490234 \n",
      "Starting epoch 81\n",
      "Starting epoch 82\n",
      "Iter: 4800 | Train Loss: 18.760669708251953 | Val Loss: 71.71788787841797 \n",
      "Starting epoch 83\n",
      "Starting epoch 84\n",
      "Iter: 4900 | Train Loss: 21.72224998474121 | Val Loss: 161.22718811035156 \n",
      "Starting epoch 85\n",
      "Iter: 5000 | Train Loss: 22.560230255126953 | Val Loss: 87.2805404663086 \n",
      "Starting epoch 86\n",
      "Starting epoch 87\n",
      "Iter: 5100 | Train Loss: 21.829160690307617 | Val Loss: 82.22149658203125 \n",
      "Starting epoch 88\n",
      "Starting epoch 89\n",
      "Iter: 5200 | Train Loss: 20.78223991394043 | Val Loss: 79.90901947021484 \n",
      "Starting epoch 90\n",
      "Iter: 5300 | Train Loss: 22.455257415771484 | Val Loss: 107.53070068359375 \n",
      "Starting epoch 91\n",
      "Starting epoch 92\n",
      "Iter: 5400 | Train Loss: 16.222187042236328 | Val Loss: 152.6396484375 \n",
      "Starting epoch 93\n",
      "Starting epoch 94\n",
      "Iter: 5500 | Train Loss: 18.56817054748535 | Val Loss: 83.0758285522461 \n",
      "Starting epoch 95\n",
      "Iter: 5600 | Train Loss: 19.1528377532959 | Val Loss: 136.68734741210938 \n",
      "Starting epoch 96\n",
      "Starting epoch 97\n",
      "Iter: 5700 | Train Loss: 16.426145553588867 | Val Loss: 67.68726348876953 \n",
      "Starting epoch 98\n",
      "Starting epoch 99\n",
      "Iter: 5800 | Train Loss: 16.170684814453125 | Val Loss: 113.85283660888672 \n",
      "Starting epoch 100\n",
      "Iter: 5900 | Train Loss: 29.298877716064453 | Val Loss: 80.42870330810547 \n"
     ]
    }
   ],
   "source": [
    "(train_acc, val_acc, train_loss, val_loss) = train_model(mlp, optimizer, loss_function)\n",
    "#"
   ]
  },
  {
   "cell_type": "code",
   "execution_count": 189,
   "metadata": {},
   "outputs": [
    {
     "data": {
      "image/png": "[encoded data removed]",
      "text/plain": [
       "<Figure size 1152x288 with 1 Axes>"
      ]
     },
     "metadata": {
      "needs_background": "light"
     },
     "output_type": "display_data"
    }
   ],
   "source": [
    "plot_losses(train_loss, val_loss)"
   ]
  },
  {
   "cell_type": "code",
   "execution_count": 175,
   "metadata": {},
   "outputs": [
    {
     "data": {
      "text/plain": [
       "<All keys matched successfully>"
      ]
     },
     "execution_count": 175,
     "metadata": {},
     "output_type": "execute_result"
    }
   ],
   "source": [
    "best_model = mlp\n",
    "best_model.load_state_dict(torch.load('best_model.pth'))"
   ]
  },
  {
   "cell_type": "code",
   "execution_count": 192,
   "metadata": {},
   "outputs": [
    {
     "name": "stdout",
     "output_type": "stream",
     "text": [
      "[ 23.731997 171.36153   22.056097 ...  14.183601  12.009199  80.48586 ]\n",
      "[ 3. 14.  2. ...  1.  1.  1.]\n",
      "MSE = 6744.982241461019\n"
     ]
    }
   ],
   "source": [
    "#y_pred_train = mlp(torch.from_numpy(X_validation).float()).detach().numpy().T[0]\n",
    "\n",
    "best_model.cpu()\n",
    "mlp.cpu()\n",
    "y_pred_1 = best_model(torch.from_numpy(X_validation).float()).detach().numpy().T[0]\n",
    "print(y_pred_1)\n",
    "print(y_validation)\n",
    "compute_mse(y_pred_1, y_validation)\n",
    "#wtf ?"
   ]
  },
  {
   "cell_type": "code",
   "execution_count": 97,
   "metadata": {},
   "outputs": [],
   "source": [
    "#TO DO:\n",
    "\n",
    "#- split X_train, y_train into train and test, so we can evaluate the MSE\n",
    "\n",
    "# idea of features to add: (no learning)\n",
    "# - number of papers\n",
    "# - average of  number of papers of an author's co-author (will need the graph for this)\n",
    "\n",
    "# add graph features: (no learning)\n",
    "# see -> https://arxiv.org/ftp/arxiv/papers/1911/1911.08795.pdf\n",
    "\n",
    "#run and save node embeddings with different methods (Node2Vec, Deepwalk..) using karateclub libary \n",
    "#try to play with the paramters\n",
    "#record execution times\n",
    "\n",
    "#- look for new features/methods from texts. \n",
    "#- different ways of combining word embeddings ?\n",
    "#- train word embeddings on our dataset ?\n",
    "\n",
    "# - do a pipeline and test every possible combination of features\n",
    "# - (as done there https://github.com/vanessachahwan/ALTEGRAD-Challenge/blob/main/Report-BMV.pdf section 6)\n",
    "\n",
    "# - compare different regression models\n",
    "# - fine tune parameters for regression model \n"
   ]
  },
  {
   "cell_type": "code",
   "execution_count": null,
   "metadata": {},
   "outputs": [],
   "source": []
  }
 ],
 "metadata": {
  "interpreter": {
   "hash": "345a0f5943a8075ed7616e2c3d9d78f5a99e0a39cacecea04843f429e3a92ccf"
  },
  "kernelspec": {
   "display_name": "Python 3.8.5 64-bit ('test_karate': conda)",
   "language": "python",
   "name": "python3"
  },
  "language_info": {
   "codemirror_mode": {
    "name": "ipython",
    "version": 3
   },
   "file_extension": ".py",
   "mimetype": "text/x-python",
   "name": "python",
   "nbconvert_exporter": "python",
   "pygments_lexer": "ipython3",
   "version": "3.8.12"
  },
  "orig_nbformat": 4
 },
 "nbformat": 4,
 "nbformat_minor": 2
}
